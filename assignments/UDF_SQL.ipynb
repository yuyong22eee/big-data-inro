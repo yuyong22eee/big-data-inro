{
 "cells": [
  {
   "cell_type": "code",
   "execution_count": 1,
   "id": "ba07338f-f637-4690-9929-38bab187fde8",
   "metadata": {},
   "outputs": [],
   "source": [
    "from pyspark.sql import SparkSession\n",
    "spark = SparkSession.builder.master('local').appName('udf').getOrCreate()"
   ]
  },
  {
   "cell_type": "code",
   "execution_count": 12,
   "id": "93776996-4e38-43c6-aa0e-f592c233a291",
   "metadata": {},
   "outputs": [],
   "source": [
    "people_age = [\n",
    "    ('이우용', 24),\n",
    "    ('유나', 21),\n",
    "    ('신구', 88),\n",
    "    ('손흥민', 32),\n",
    "    ('안현', 39),\n",
    "    ('오은영', 59),\n",
    "    ('이순재', 89),\n",
    "    ('장원영', 20),\n",
    "    ('아이유', 31),\n",
    "    ('전지현', 43)\n",
    "]"
   ]
  },
  {
   "cell_type": "code",
   "execution_count": 14,
   "id": "618193ee-d118-4464-bb7e-e6e86b176b58",
   "metadata": {},
   "outputs": [],
   "source": [
    "schema = ['name', 'age']"
   ]
  },
  {
   "cell_type": "code",
   "execution_count": 15,
   "id": "b96bb2d2-abf8-4100-b322-7dee1369581e",
   "metadata": {},
   "outputs": [],
   "source": [
    "df = spark.createDataFrame(data = people_age, schema=schema)"
   ]
  },
  {
   "cell_type": "code",
   "execution_count": 16,
   "id": "a89ce87a-571e-4cfb-a0e6-af3ca7823e86",
   "metadata": {},
   "outputs": [
    {
     "name": "stdout",
     "output_type": "stream",
     "text": [
      "+------+---+\n",
      "|  name|age|\n",
      "+------+---+\n",
      "|이우용| 24|\n",
      "|  유나| 21|\n",
      "|  신구| 88|\n",
      "|손흥민| 32|\n",
      "|  안현| 39|\n",
      "|오은영| 59|\n",
      "|이순재| 89|\n",
      "|장원영| 20|\n",
      "|아이유| 31|\n",
      "|전지현| 43|\n",
      "+------+---+\n",
      "\n"
     ]
    }
   ],
   "source": [
    "df.show()"
   ]
  },
  {
   "cell_type": "code",
   "execution_count": 18,
   "id": "b7d244ec-086a-4ea6-8841-c49e769df5ee",
   "metadata": {},
   "outputs": [],
   "source": [
    "df.createOrReplaceTempView('name_age')"
   ]
  },
  {
   "cell_type": "code",
   "execution_count": 20,
   "id": "8594499d-0df2-4a3d-8b83-7dd353dab7f3",
   "metadata": {},
   "outputs": [],
   "source": [
    "def age_category(age) :\n",
    "    if (age < 35) :\n",
    "        return \"young\"\n",
    "    elif (age >= 35 and age <= 59) :\n",
    "        return \"adult\"\n",
    "    else :\n",
    "        return \"senior\""
   ]
  },
  {
   "cell_type": "code",
   "execution_count": 21,
   "id": "0ef67d16-d31c-4a79-9a5d-260a9d0b3e60",
   "metadata": {},
   "outputs": [
    {
     "data": {
      "text/plain": [
       "<function __main__.age_category(age)>"
      ]
     },
     "execution_count": 21,
     "metadata": {},
     "output_type": "execute_result"
    }
   ],
   "source": [
    "spark.udf.register('age_category',age_category)"
   ]
  },
  {
   "cell_type": "code",
   "execution_count": 22,
   "id": "049178e9-f3ea-4075-be8c-72bafc188cdd",
   "metadata": {},
   "outputs": [
    {
     "name": "stdout",
     "output_type": "stream",
     "text": [
      "+------+---+-----------------+\n",
      "|  name|age|age_category(age)|\n",
      "+------+---+-----------------+\n",
      "|이우용| 24|            young|\n",
      "|  유나| 21|            young|\n",
      "|  신구| 88|           senior|\n",
      "|손흥민| 32|            young|\n",
      "|  안현| 39|            adult|\n",
      "|오은영| 59|            adult|\n",
      "|이순재| 89|           senior|\n",
      "|장원영| 20|            young|\n",
      "|아이유| 31|            young|\n",
      "|전지현| 43|            adult|\n",
      "+------+---+-----------------+\n",
      "\n"
     ]
    }
   ],
   "source": [
    "spark.sql('SELECT name,age,age_category(age) \\\n",
    "           FROM name_age').show()"
   ]
  },
  {
   "cell_type": "code",
   "execution_count": null,
   "id": "dbf42820-14c3-47dc-82b7-40a98636afa0",
   "metadata": {},
   "outputs": [],
   "source": []
  }
 ],
 "metadata": {
  "kernelspec": {
   "display_name": "Python 3 (ipykernel)",
   "language": "python",
   "name": "python3"
  },
  "language_info": {
   "codemirror_mode": {
    "name": "ipython",
    "version": 3
   },
   "file_extension": ".py",
   "mimetype": "text/x-python",
   "name": "python",
   "nbconvert_exporter": "python",
   "pygments_lexer": "ipython3",
   "version": "3.9.13"
  }
 },
 "nbformat": 4,
 "nbformat_minor": 5
}

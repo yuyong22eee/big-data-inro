{
 "cells": [
  {
   "cell_type": "markdown",
   "id": "eba35e26-9940-460c-89cf-70af79981c4d",
   "metadata": {},
   "source": [
    "# RDD 프로그래밍을 이용한 TLC Trip 데이터 시각화\n",
    "![](https://i.ibb.co/YD7NbWR/tlc-arclayer.jpg)\n",
    "#### TLC 데이터의 승하차 위치(fhvhv... 파일)와 좌표 값(taxi_zone... 파일)의 결합을 통해 승차 기록을 시각화\n",
    "#### [+]로 표시된 코드를 완성하세요.\n",
    "### 준비사항\n",
    "+ 데이터 파일('taxi_zone_lookup_coordinates_v2.csv', 'fhvhv_tripdata_2020-03_short.csv')을 data 폴더에 저장"
   ]
  },
  {
   "cell_type": "markdown",
   "id": "d7dec272-73cc-4d0f-8dc0-aad47efcb50e",
   "metadata": {},
   "source": [
    "## 1. TLC Trip, Coordinates 데이터 로딩"
   ]
  },
  {
   "cell_type": "markdown",
   "id": "d5d7dd87-78d1-4aaa-bacf-0b17e3036b48",
   "metadata": {},
   "source": [
    "#### PySpark 시작\n",
    "+ App name: 'assgn-tlc-trip-arc-layer'"
   ]
  },
  {
   "cell_type": "code",
   "execution_count": null,
   "id": "f7a34f78-1159-4607-83cf-af932bdff1a4",
   "metadata": {
    "tags": []
   },
   "outputs": [],
   "source": [
    "# [+] PySpark 시작\n",
    "from pyspark import SparkConf, SparkContext\n",
    "conf = SparkConf().setMaster('local').setAppName('assgn-tlc-trip-arc-layer')\n",
    "sc = SparkContext(conf=conf) "
   ]
  },
  {
   "cell_type": "code",
   "execution_count": null,
   "id": "da1273e1-ce30-491e-ba04-3b47f6dbaffa",
   "metadata": {
    "tags": []
   },
   "outputs": [],
   "source": [
    "# 데이터 파일 경로 및 이름\n",
    "path = './data/'\n",
    "coord_file = 'taxi_zone_lookup_coordinates_v2.csv'\n",
    "trip_file = 'fhvhv_tripdata_2020-03_short.csv'"
   ]
  },
  {
   "cell_type": "markdown",
   "id": "eb9535f8-8064-473b-9232-3d2fc57226c8",
   "metadata": {},
   "source": [
    "**입력**: *coord_lines*\n",
    "```\n",
    "'LocationID,Borough,Zone,service_zone,latitude,longitude',\n",
    "'1,EWR,Newark Airport,EWR,40.69287997,-74.18544993',\n",
    "'2,Queens,Jamaica Bay,Boro Zone,40.6057,-73.8713',\n",
    "'3,Bronx,Allerton/Pelham Gardens,Boro Zone,40.86521003,-73.8435548',\n",
    "'4,Manhattan,Alphabet City,Yellow Zone,40.72599,-73.98057',\n",
    "...\n",
    "```\n",
    " \n",
    "**출력**: *trip_lines*\n",
    "```\n",
    "'hvfhs_license_num,dispatching_base_num,pickup_datetime,dropoff_datetime,PULocationID,DOLocationID,SR_Flag',\n",
    "'HV0005,B02510,2020-03-01 00:03:40,2020-03-01 00:23:39,81,159,',\n",
    "'HV0005,B02510,2020-03-01 00:28:05,2020-03-01 00:38:57,168,119,',\n",
    "'HV0003,B02764,2020-03-01 00:03:07,2020-03-01 00:15:04,137,209,1',\n",
    "'HV0003,B02764,2020-03-01 00:18:42,2020-03-01 00:38:42,209,80,'\n",
    "...\n",
    "```"
   ]
  },
  {
   "cell_type": "code",
   "execution_count": null,
   "id": "5d8ce7c0-78e6-4b57-b0d7-ce7f775b447b",
   "metadata": {
    "tags": []
   },
   "outputs": [],
   "source": [
    "# [+] coordinates 데이터 파일을 읽어 RDD로 생성\n",
    "coord_lines = sc.textFile(path + coord_file)\n",
    "\n",
    "# [+] RDD 값 5개 출력\n",
    "coord_lines.take(5)"
   ]
  },
  {
   "cell_type": "code",
   "execution_count": null,
   "id": "9f5fb721-2d19-4f15-9718-b5872919663e",
   "metadata": {
    "tags": []
   },
   "outputs": [],
   "source": [
    "# [+] Trip 데이터 파일을 읽어 RDD로 생성\n",
    "trip_lines = sc.textFile(path + trip_file)\n",
    "\n",
    "# [+] RDD 값 5개 출력\n",
    "trip_lines.take(5)"
   ]
  },
  {
   "cell_type": "markdown",
   "id": "3667a833-94b0-4da1-ba44-15cec2c488a1",
   "metadata": {},
   "source": [
    "## 2. 승하차 위치 정보 획득을 위한 RDD 처리\n",
    "#### 수행 단계:\n",
    "+ 헤더 제거: coord, trip 데이터 헤더 제거\n",
    "+ Key-Value RDD 변환: 두 RDD로부터 필요한 값만 추출\n",
    "    1. **coord 데이터**(<span style='color: blue; font-weight: bold'>Key</span>, <span style='color: purple; font-weight: bold'>Value</span>): (<span style='color: blue; font-weight: bold'>LocationID</span>, <span style='color: purple; font-weight: bold'>(latitude, longitude)</span>)\n",
    "    2. **trip 데이터**[<span style='color: blue; font-weight: bold'>Key</span>, <span style='color: purple; font-weight: bold'>Value</span>]: (<span style='color: blue; font-weight: bold'>PULocationID</span>, <span style='color: purple; font-weight: bold'>DOLocationID</span>)\n",
    "+ RDD 조인:  **LocationID**를 중심으로 두 RDD를 결합\n",
    "    1. PULocationID를 기준으로 조인 &rarr; **승차 위치**에 대한 **좌표** 획득\n",
    "    2. DOLocationID를 기준으로 조인 &rarr; **하차 위치**에 대한 **좌표** 획득\n",
    "+ 결과 출력: RDD &rarr; List &rarr; DataFrame &rarr; 시각화"
   ]
  },
  {
   "cell_type": "markdown",
   "id": "93570189-a82d-46f9-b8c2-a94d0010c39c",
   "metadata": {
    "tags": []
   },
   "source": [
    "### 2.1 RDD 헤더 제거"
   ]
  },
  {
   "cell_type": "code",
   "execution_count": null,
   "id": "778f699e-4ba1-4653-b3b7-41f36cd7af50",
   "metadata": {
    "tags": []
   },
   "outputs": [],
   "source": [
    "# [+] coord_lines의 헤더 제거\n",
    "coord_header = coord_lines.first()\n",
    "coord_filtered_lines = coord_lines.filter(lambda x: x!= coord_header)"
   ]
  },
  {
   "cell_type": "code",
   "execution_count": null,
   "id": "2e248e4f-6478-44c0-adb5-8def4d53307a",
   "metadata": {
    "tags": []
   },
   "outputs": [],
   "source": [
    "# [+] trip_lines의 헤더 제거\n",
    "trip_header = trip_lines.first()\n",
    "trip_filtered_lines = trip_lines.filter(lambda x: x!= trip_header)"
   ]
  },
  {
   "cell_type": "code",
   "execution_count": null,
   "id": "79c85601-f41e-4ac9-b735-6f457ce0c382",
   "metadata": {
    "tags": []
   },
   "outputs": [],
   "source": [
    "# [+] 헤더가 제거된 coord_filtered_lines 값 5개 출력\n",
    "coord_filtered_lines.take(5)"
   ]
  },
  {
   "cell_type": "code",
   "execution_count": null,
   "id": "1b5574eb-7cd9-4f1f-b77c-990c637e103e",
   "metadata": {
    "tags": []
   },
   "outputs": [],
   "source": [
    "# [+] 헤더가 제거된 trip_filtered_lines 값 5개 출력\n",
    "trip_filtered_lines.take(5)"
   ]
  },
  {
   "cell_type": "markdown",
   "id": "884e7c08-4977-4c7e-a1bf-76775e5a9716",
   "metadata": {
    "tags": []
   },
   "source": [
    "### 2.2 coord RDD를 Key-Value RDD로 변환\n",
    "+ Key: LocationID(0 번째 값)\n",
    "+ Value: latitude(위도, 4 번째 값), longitude(경도, 5번째 값)\n",
    "\n",
    "**입력**: *coord_filtered_lines*:\n",
    "```\n",
    "'1,EWR,Newark Airport,EWR,40.69287997,-74.18544993',\n",
    "'2,Queens,Jamaica Bay,Boro Zone,40.6057,-73.8713',\n",
    "'3,Bronx,Allerton/Pelham Gardens,Boro Zone,40.86521003,-73.8435548',\n",
    "'4,Manhattan,Alphabet City,Yellow Zone,40.72599,-73.98057',\n",
    "'5,Staten Island,Arden Heights,Boro Zone,40.5564,-74.1735'\n",
    "...\n",
    "```\n",
    "**출력**: *coord_kv*:\n",
    "```\n",
    "('1', ['40.69287997', '-74.18544993']),\n",
    "('2', ['40.6057', '-73.8713']),\n",
    "('3', ['40.86521003', '-73.8435548']),\n",
    "('4', ['40.72599', '-73.98057']),\n",
    "('5', ['40.5564', '-74.1735'])\n",
    "...\n",
    "```"
   ]
  },
  {
   "cell_type": "markdown",
   "id": "27f41398-55fa-418f-ba6b-77929074d4ca",
   "metadata": {},
   "source": [
    "#### (LocationID, (latitude, longitude)) 형태의 Key-Value RDD 생성\n",
    "+ Hint 1: ```x.split(',')```: ```','``` 문자를 기준으로 토크나이징\n",
    "+ Hint 2: ```x.split(',')[4:6]```: 토크나이징 결과에서 4,5번 값을 선택"
   ]
  },
  {
   "cell_type": "code",
   "execution_count": null,
   "id": "82678f0d-bc08-4a1c-b0df-52509802baab",
   "metadata": {
    "tags": []
   },
   "outputs": [],
   "source": [
    "# [+] Key-Value RDD 생성\n",
    "coord_kv = coord_filtered_lines.map(lambda x : (x.split(',')[0],(x.split(',')[4:6])))"
   ]
  },
  {
   "cell_type": "code",
   "execution_count": null,
   "id": "c8945653-127a-45fa-be7c-c6e31cb793e5",
   "metadata": {
    "tags": []
   },
   "outputs": [],
   "source": [
    "# [+] coord_kv 값 5개 출력\n",
    "coord_kv.take(5)"
   ]
  },
  {
   "cell_type": "markdown",
   "id": "d85cebd0-75dd-4009-a501-6eeff1d7ebc3",
   "metadata": {},
   "source": [
    "#### 위도(latitude), 경도(longitude) 값 모두 문자열 상태이므로, float으로 변환\n",
    "+ 위도, 경도 데이터를 올바르게 처리하기 위해서는 반드시 float과 같은 수치형으로 표현"
   ]
  },
  {
   "cell_type": "code",
   "execution_count": null,
   "id": "ba2d47d1-4919-44bc-9266-e069c69f49b3",
   "metadata": {
    "tags": []
   },
   "outputs": [],
   "source": [
    "# latitude, longitude 값을 float 타입으로 변환\n",
    "coord_kv = coord_kv.mapValues(lambda x: [float(x[0]), float(x[1])])"
   ]
  },
  {
   "cell_type": "code",
   "execution_count": null,
   "id": "80332c14-d478-4444-a934-45648053033e",
   "metadata": {
    "tags": []
   },
   "outputs": [],
   "source": [
    "# [+] coord_kv 값 5개 출력\n",
    "coord_kv.take(5)"
   ]
  },
  {
   "cell_type": "markdown",
   "id": "c6e194e5-da64-4dfe-93af-193f4c320499",
   "metadata": {},
   "source": [
    "### 2.3 Trip RDD를 Key-Value RDD로 변환\n",
    "+ Key: PULocationID(4번째 값) = Pickup Location ID(승차 위치)\n",
    "+ Value: DOLocationID(5번째 값) = Dropoff Location ID(하차 위치)\n",
    "\n",
    "**입력**: *coord_filtered_lines*\n",
    "\n",
    "```\n",
    "'HV0005,B02510,2020-03-01 00:03:40,2020-03-01 00:23:39,81,159,',\n",
    "'HV0005,B02510,2020-03-01 00:28:05,2020-03-01 00:38:57,168,119,',\n",
    "'HV0003,B02764,2020-03-01 00:03:07,2020-03-01 00:15:04,137,209,1',\n",
    "'HV0003,B02764,2020-03-01 00:18:42,2020-03-01 00:38:42,209,80,',\n",
    "'HV0003,B02764,2020-03-01 00:44:24,2020-03-01 00:58:44,256,226,'\n",
    "...\n",
    "\n",
    "```\n",
    "\n",
    "**출력**: *trip_kv*\n",
    "```\n",
    "['81', '159'], \n",
    "['168', '119'], \n",
    "['137', '209'], \n",
    "['209', '80'], \n",
    "['256', '226'],\n",
    "...\n",
    "```"
   ]
  },
  {
   "cell_type": "markdown",
   "id": "1f4cee5b-238c-415d-9149-75487945c7f4",
   "metadata": {},
   "source": [
    "#### [PULocationID, DOLocationID] 형태의 Key-Value RDD 생성"
   ]
  },
  {
   "cell_type": "code",
   "execution_count": null,
   "id": "34086667-eb85-43f9-a604-89e8c7d9947c",
   "metadata": {
    "tags": []
   },
   "outputs": [],
   "source": [
    "# [+] Key-Value RDD 생성\n",
    "trip_kv = trip_filtered_lines.map(lambda x: (x.split(',')[4], x.split(',')[5]))"
   ]
  },
  {
   "cell_type": "code",
   "execution_count": null,
   "id": "ca7abf15-8e48-4c98-9d5c-c1252de39d80",
   "metadata": {
    "tags": []
   },
   "outputs": [],
   "source": [
    "# [+] trip_kv 값 5개 출력\n",
    "trip_kv.take(5)"
   ]
  },
  {
   "cell_type": "markdown",
   "id": "f75664d4-b51e-4b78-8b6f-a5cc47741dc7",
   "metadata": {},
   "source": [
    "### 2.4 Coord, Trip RDD의 첫 번째 조인\n",
    "\n",
    "**입력 1**: trip_kv\n",
    "```\n",
    "['81', '159'], \n",
    "['168', '119'], \n",
    "['137', '209'], \n",
    "['209', '80'], \n",
    "['256', '226'],\n",
    "...\n",
    "```\n",
    "\n",
    "**입력 2**: coord_kv\n",
    "```\n",
    "('1', ['40.69287997', '-74.18544993']),\n",
    "('2', ['40.6057', '-73.8713']),\n",
    "('3', ['40.86521003', '-73.8435548']),\n",
    "('4', ['40.72599', '-73.98057']),\n",
    "('5', ['40.5564', '-74.1735'])\n",
    "...\n",
    "```\n",
    "\n",
    "**출력**: *pu_joined*\n",
    "```\n",
    "('209', ('80', ['40.7072', '-74.0027'])),\n",
    "('209', ('37', ['40.7072', '-74.0027'])),\n",
    "('209', ('13', ['40.7072', '-74.0027'])),\n",
    "('209', ('127', ['40.7072', '-74.0027'])),\n",
    "('209', ('39', ['40.7072', '-74.0027'])),\n",
    " ...\n",
    " ```"
   ]
  },
  {
   "cell_type": "code",
   "execution_count": null,
   "id": "00c29342-2f96-4f73-a31b-74a19b239c3a",
   "metadata": {
    "tags": []
   },
   "outputs": [],
   "source": [
    "# [+] trip_kv와 coord_kv의 조인 연산\n",
    "pu_joined = trip_kv.join(coord_kv)"
   ]
  },
  {
   "cell_type": "code",
   "execution_count": null,
   "id": "85a89290-553e-436e-8014-d471cfc95d47",
   "metadata": {
    "tags": []
   },
   "outputs": [],
   "source": [
    "# [+] pu_joined 5개 값 출력\n",
    "pu_joined.take(5)"
   ]
  },
  {
   "cell_type": "code",
   "execution_count": null,
   "id": "9638ae31-c014-4721-ad11-aa34d0235f65",
   "metadata": {
    "tags": []
   },
   "outputs": [],
   "source": [
    "# Key(PULocationID) 제거\n",
    "pu_joined = pu_joined.values()\n",
    "pu_joined.take(5)"
   ]
  },
  {
   "cell_type": "markdown",
   "id": "2165c621-1fec-4c23-829f-166e190f0eea",
   "metadata": {},
   "source": [
    "### 2.5 Coord, Trip RDD의 두 번째 조인\n",
    "\n",
    "**입력 1**: *pu_joined*\n",
    "```\n",
    "('80', ['40.7072', '-74.0027']),\n",
    "('37', ['40.7072', '-74.0027']),\n",
    "('13', ['40.7072', '-74.0027']),\n",
    "('127', ['40.7072', '-74.0027']),\n",
    "('39', ['40.7072', '-74.0027'])\n",
    "```\n",
    "\n",
    "**입력 2**: *coord_kv*\n",
    "```\n",
    "('1', ['40.69287997', '-74.18544993']),\n",
    "('2', ['40.6057', '-73.8713']),\n",
    "('3', ['40.86521003', '-73.8435548']),\n",
    "('4', ['40.72599', '-73.98057']),\n",
    "('5', ['40.5564', '-74.1735'])\n",
    "...\n",
    "```\n",
    "\n",
    "**출력**: *pudo_joined*\n",
    "```\n",
    "('40', (['40.7072', '-74.0027'], ['40.6802', '-74.00163'])),\n",
    "('40', (['40.7072', '-74.0027'], ['40.6802', '-74.00163'])),\n",
    "('40', (['40.7072', '-74.0027'], ['40.6802', '-74.00163'])),\n",
    "('40', (['40.7072', '-74.0027'], ['40.6802', '-74.00163'])),\n",
    "('40', (['40.7072', '-74.0027'], ['40.6802', '-74.00163']))\n",
    " ```"
   ]
  },
  {
   "cell_type": "code",
   "execution_count": null,
   "id": "2aa54113-84da-4e7b-9283-155972cebb1e",
   "metadata": {
    "tags": []
   },
   "outputs": [],
   "source": [
    "# [+] pu_joined와 coord_kv의 조인 연산\n",
    "pudo_joined = pu_joined.join(coord_kv)"
   ]
  },
  {
   "cell_type": "code",
   "execution_count": null,
   "id": "45c37d01-e6d7-44a2-950c-6ca1ae2202d8",
   "metadata": {
    "tags": []
   },
   "outputs": [],
   "source": [
    "# [+] pudo_joined 값 5개 출력\n",
    "pudo_joined.take(5)"
   ]
  },
  {
   "cell_type": "code",
   "execution_count": null,
   "id": "3e666d79-fda4-4ff7-a95c-09d56ae3840c",
   "metadata": {
    "tags": []
   },
   "outputs": [],
   "source": [
    "# Key(DOLocationID) 제거\n",
    "pudo_joined = pudo_joined.values()\n",
    "pudo_joined.take(5)"
   ]
  },
  {
   "cell_type": "markdown",
   "id": "08812801-8404-4dea-a145-53e7cf9c0619",
   "metadata": {},
   "source": [
    "### 2.6 결과 출력 및 DataFrame으로 변환"
   ]
  },
  {
   "cell_type": "code",
   "execution_count": null,
   "id": "495ccc31-6312-472c-b9ff-33e9f2f0bb4f",
   "metadata": {
    "tags": []
   },
   "outputs": [],
   "source": [
    "# [+] pudo_joined를 List 객체로 출력\n",
    "coord_lst = pudo_joined.collect()"
   ]
  },
  {
   "cell_type": "code",
   "execution_count": null,
   "id": "fa73dc66-807c-4a8d-b1af-1effc1f33529",
   "metadata": {
    "tags": []
   },
   "outputs": [],
   "source": [
    "# 샘플 출력\n",
    "coord_lst[0]"
   ]
  },
  {
   "cell_type": "code",
   "execution_count": null,
   "id": "e677fea3-7af9-47c6-974c-670be7a4e844",
   "metadata": {
    "tags": []
   },
   "outputs": [],
   "source": [
    "# 승차위치와 하차위치 리스트 결합\n",
    "res_lst = []\n",
    "\n",
    "for i in range(len(coord_lst)):\n",
    "    res_lst.append(list(coord_lst[i][0] + coord_lst[i][1]))"
   ]
  },
  {
   "cell_type": "code",
   "execution_count": null,
   "id": "c099c2c0-2852-4493-96f1-ca10a861a7b1",
   "metadata": {
    "tags": []
   },
   "outputs": [],
   "source": [
    "# 샘플 출력\n",
    "res_lst[0]"
   ]
  },
  {
   "cell_type": "code",
   "execution_count": null,
   "id": "22fecc9d-7ff9-4c24-a8e1-1621ab3efe05",
   "metadata": {
    "tags": []
   },
   "outputs": [],
   "source": [
    "# 결과를 DataFrame 객체에 저장\n",
    "import pandas as pd\n",
    "df = pd.DataFrame(res_lst, columns=[\"latitude_pu\", \"longitude_pu\",\n",
    "                                    \"latitude_do\", \"longitude_do\"\n",
    "                                    ])"
   ]
  },
  {
   "cell_type": "code",
   "execution_count": null,
   "id": "e0a75ff1-0a43-414a-a66e-da668d0ed66f",
   "metadata": {
    "tags": []
   },
   "outputs": [],
   "source": [
    "df"
   ]
  },
  {
   "cell_type": "markdown",
   "id": "a6dd3967-c69c-43d3-a76e-92ea0b8f0e55",
   "metadata": {},
   "source": [
    "---"
   ]
  },
  {
   "cell_type": "markdown",
   "id": "d345c430-1ce4-4d11-b23f-16799be1342f",
   "metadata": {},
   "source": [
    "## 3. TLC 승차 기록 시각화"
   ]
  },
  {
   "cell_type": "markdown",
   "id": "da465120-48f0-43e8-92f1-e4b7a992232f",
   "metadata": {},
   "source": [
    "#### 시각화 라이브러리 pydeck 설치\n",
    "+ pydeck: Uber의 대규모 WebGL 기반 데이터 시각화 라이브러리인 Dec.gl의 Python 버전\n",
    "+ pydeck API 참고 [(link)](https://deckgl.readthedocs.io/en/latest/index.html)"
   ]
  },
  {
   "cell_type": "code",
   "execution_count": null,
   "id": "4ad784df-201b-4972-9f8b-d53bf352e9ea",
   "metadata": {},
   "outputs": [],
   "source": [
    "# pydeck 설치 명령어\n",
    "!pip install pydeck"
   ]
  },
  {
   "cell_type": "code",
   "execution_count": null,
   "id": "e7744909-0e11-47ed-bab4-5a75d22dbdd6",
   "metadata": {
    "tags": []
   },
   "outputs": [],
   "source": [
    "# pydeck 임포트\n",
    "import pydeck as pdk"
   ]
  },
  {
   "cell_type": "code",
   "execution_count": null,
   "id": "b0fc9149-b311-41c9-9091-d561ba263d2d",
   "metadata": {
    "tags": []
   },
   "outputs": [],
   "source": [
    "# 시각화 옵션\n",
    "GREEN_RGB = [0, 255, 0, 40]\n",
    "RED_RGB = [240, 100, 0, 40]"
   ]
  },
  {
   "cell_type": "markdown",
   "id": "8fab4457-384c-4f71-b044-14d8fbb79178",
   "metadata": {},
   "source": [
    "#### 최종 결과를 ArcLayer로 시각화\n",
    "+ <span style=\"color: red; font-weight: bold\">빨간선</span>: 출발지(승차 위치), <span style=\"color: green; font-weight: bold\">초록선</span>: 도착치(하차 위치) \n",
    "+ ```df.sample(n)```: 컴퓨터 성능에 따라 n 값을 적절히 조정\n",
    "+ Zoom In/Out, 로테이션(우클릭 드래그) 기능 등을 이용하여 시각화된 결과를 살펴보기"
   ]
  },
  {
   "cell_type": "code",
   "execution_count": null,
   "id": "964cbd77-233c-429f-82b5-9e8ce3ee1e07",
   "metadata": {
    "tags": []
   },
   "outputs": [],
   "source": [
    "%%time\n",
    "\n",
    "# ArcLayer 시각화 설정\n",
    "arc_layer = pdk.Layer(\n",
    "    \"ArcLayer\",\n",
    "    data=df.sample(100000),\n",
    "    get_width=\"S000 * 2\",\n",
    "    get_source_position=[\"longitude_pu\", \"latitude_pu\"],\n",
    "    get_target_position=[\"longitude_do\", \"latitude_do\"],\n",
    "    get_tilt=15,\n",
    "    get_source_color=RED_RGB,\n",
    "    get_target_color=GREEN_RGB,\n",
    "    pickable=True,\n",
    "    auto_highlight=True,\n",
    ")\n",
    "\n",
    "# 초기화면 설정\n",
    "view_state = pdk.ViewState(\n",
    "    latitude=40.6928,\n",
    "    longitude=-74.1854,\n",
    "    bearing=45,\n",
    "    pitch=50,\n",
    "    zoom=8,\n",
    ")\n",
    "\n",
    "\n",
    "# 렌더링 옵션\n",
    "TOOLTIP_TEXT = {\"html\": \"{S000} trips <br /> Pickup Locations in red; Dropoff Locations in green\"}\n",
    "r = pdk.Deck(arc_layer, initial_view_state=view_state, tooltip=TOOLTIP_TEXT)\n",
    "r.to_html(\"arc_layer.html\")"
   ]
  },
  {
   "cell_type": "code",
   "execution_count": null,
   "id": "b0f1c1c4-c7c3-49e1-98f3-24327545204f",
   "metadata": {},
   "outputs": [],
   "source": []
  }
 ],
 "metadata": {
  "kernelspec": {
   "display_name": "Python 3 (ipykernel)",
   "language": "python",
   "name": "python3"
  },
  "language_info": {
   "codemirror_mode": {
    "name": "ipython",
    "version": 3
   },
   "file_extension": ".py",
   "mimetype": "text/x-python",
   "name": "python",
   "nbconvert_exporter": "python",
   "pygments_lexer": "ipython3",
   "version": "3.9.13"
  }
 },
 "nbformat": 4,
 "nbformat_minor": 5
}
